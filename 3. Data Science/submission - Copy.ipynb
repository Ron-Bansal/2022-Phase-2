{
 "cells": [
  {
   "cell_type": "markdown",
   "metadata": {},
   "source": [
    "# 2022 NZMSA Data Science Submission."
   ]
  },
  {
   "cell_type": "code",
   "execution_count": 1,
   "metadata": {},
   "outputs": [
    {
     "name": "stdout",
     "output_type": "stream",
     "text": [
      "Requirement already satisfied: ipykernel==6.15.0 in c:\\users\\rauna\\appdata\\local\\programs\\python\\python310\\lib\\site-packages (from -r requirements.txt (line 1)) (6.15.0)\n",
      "Requirement already satisfied: matplotlib==3.5.2 in c:\\users\\rauna\\appdata\\local\\programs\\python\\python310\\lib\\site-packages (from -r requirements.txt (line 2)) (3.5.2)\n",
      "Requirement already satisfied: pandas==1.4.2 in c:\\users\\rauna\\appdata\\local\\programs\\python\\python310\\lib\\site-packages (from -r requirements.txt (line 3)) (1.4.2)\n",
      "Requirement already satisfied: scikit-learn==1.1.1 in c:\\users\\rauna\\appdata\\local\\programs\\python\\python310\\lib\\site-packages (from -r requirements.txt (line 4)) (1.1.1)\n",
      "Requirement already satisfied: seaborn==0.11.2 in c:\\users\\rauna\\appdata\\local\\programs\\python\\python310\\lib\\site-packages (from -r requirements.txt (line 5)) (0.11.2)\n",
      "Requirement already satisfied: packaging in c:\\users\\rauna\\appdata\\local\\programs\\python\\python310\\lib\\site-packages (from ipykernel==6.15.0->-r requirements.txt (line 1)) (21.3)\n",
      "Requirement already satisfied: psutil in c:\\users\\rauna\\appdata\\local\\programs\\python\\python310\\lib\\site-packages (from ipykernel==6.15.0->-r requirements.txt (line 1)) (5.9.0)\n",
      "Requirement already satisfied: tornado>=6.1 in c:\\users\\rauna\\appdata\\local\\programs\\python\\python310\\lib\\site-packages (from ipykernel==6.15.0->-r requirements.txt (line 1)) (6.1)\n",
      "Requirement already satisfied: jupyter-client>=6.1.12 in c:\\users\\rauna\\appdata\\local\\programs\\python\\python310\\lib\\site-packages (from ipykernel==6.15.0->-r requirements.txt (line 1)) (7.3.1)\n",
      "Requirement already satisfied: matplotlib-inline>=0.1 in c:\\users\\rauna\\appdata\\local\\programs\\python\\python310\\lib\\site-packages (from ipykernel==6.15.0->-r requirements.txt (line 1)) (0.1.3)\n",
      "Requirement already satisfied: ipython>=7.23.1 in c:\\users\\rauna\\appdata\\local\\programs\\python\\python310\\lib\\site-packages (from ipykernel==6.15.0->-r requirements.txt (line 1)) (8.3.0)\n",
      "Requirement already satisfied: pyzmq>=17 in c:\\users\\rauna\\appdata\\local\\programs\\python\\python310\\lib\\site-packages (from ipykernel==6.15.0->-r requirements.txt (line 1)) (22.3.0)\n",
      "Requirement already satisfied: traitlets>=5.1.0 in c:\\users\\rauna\\appdata\\local\\programs\\python\\python310\\lib\\site-packages (from ipykernel==6.15.0->-r requirements.txt (line 1)) (5.2.0)\n",
      "Requirement already satisfied: nest-asyncio in c:\\users\\rauna\\appdata\\local\\programs\\python\\python310\\lib\\site-packages (from ipykernel==6.15.0->-r requirements.txt (line 1)) (1.5.5)\n",
      "Requirement already satisfied: debugpy>=1.0 in c:\\users\\rauna\\appdata\\local\\programs\\python\\python310\\lib\\site-packages (from ipykernel==6.15.0->-r requirements.txt (line 1)) (1.6.0)\n",
      "Requirement already satisfied: pillow>=6.2.0 in c:\\users\\rauna\\appdata\\local\\programs\\python\\python310\\lib\\site-packages (from matplotlib==3.5.2->-r requirements.txt (line 2)) (9.1.1)\n",
      "Requirement already satisfied: kiwisolver>=1.0.1 in c:\\users\\rauna\\appdata\\local\\programs\\python\\python310\\lib\\site-packages (from matplotlib==3.5.2->-r requirements.txt (line 2)) (1.4.2)\n",
      "Requirement already satisfied: fonttools>=4.22.0 in c:\\users\\rauna\\appdata\\local\\programs\\python\\python310\\lib\\site-packages (from matplotlib==3.5.2->-r requirements.txt (line 2)) (4.33.3)\n",
      "Requirement already satisfied: pyparsing>=2.2.1 in c:\\users\\rauna\\appdata\\local\\programs\\python\\python310\\lib\\site-packages (from matplotlib==3.5.2->-r requirements.txt (line 2)) (3.0.9)\n",
      "Requirement already satisfied: cycler>=0.10 in c:\\users\\rauna\\appdata\\local\\programs\\python\\python310\\lib\\site-packages (from matplotlib==3.5.2->-r requirements.txt (line 2)) (0.11.0)\n",
      "Requirement already satisfied: numpy>=1.17 in c:\\users\\rauna\\appdata\\local\\programs\\python\\python310\\lib\\site-packages (from matplotlib==3.5.2->-r requirements.txt (line 2)) (1.22.4)\n",
      "Requirement already satisfied: python-dateutil>=2.7 in c:\\users\\rauna\\appdata\\local\\programs\\python\\python310\\lib\\site-packages (from matplotlib==3.5.2->-r requirements.txt (line 2)) (2.8.2)\n",
      "Requirement already satisfied: pytz>=2020.1 in c:\\users\\rauna\\appdata\\local\\programs\\python\\python310\\lib\\site-packages (from pandas==1.4.2->-r requirements.txt (line 3)) (2022.1)\n",
      "Requirement already satisfied: joblib>=1.0.0 in c:\\users\\rauna\\appdata\\local\\programs\\python\\python310\\lib\\site-packages (from scikit-learn==1.1.1->-r requirements.txt (line 4)) (1.1.0)\n",
      "Requirement already satisfied: threadpoolctl>=2.0.0 in c:\\users\\rauna\\appdata\\local\\programs\\python\\python310\\lib\\site-packages (from scikit-learn==1.1.1->-r requirements.txt (line 4)) (3.1.0)\n",
      "Requirement already satisfied: scipy>=1.3.2 in c:\\users\\rauna\\appdata\\local\\programs\\python\\python310\\lib\\site-packages (from scikit-learn==1.1.1->-r requirements.txt (line 4)) (1.9.0)\n",
      "Requirement already satisfied: jedi>=0.16 in c:\\users\\rauna\\appdata\\local\\programs\\python\\python310\\lib\\site-packages (from ipython>=7.23.1->ipykernel==6.15.0->-r requirements.txt (line 1)) (0.18.1)\n",
      "Requirement already satisfied: decorator in c:\\users\\rauna\\appdata\\local\\programs\\python\\python310\\lib\\site-packages (from ipython>=7.23.1->ipykernel==6.15.0->-r requirements.txt (line 1)) (5.1.1)\n",
      "Requirement already satisfied: colorama in c:\\users\\rauna\\appdata\\local\\programs\\python\\python310\\lib\\site-packages (from ipython>=7.23.1->ipykernel==6.15.0->-r requirements.txt (line 1)) (0.4.4)\n",
      "Requirement already satisfied: pygments>=2.4.0 in c:\\users\\rauna\\appdata\\local\\programs\\python\\python310\\lib\\site-packages (from ipython>=7.23.1->ipykernel==6.15.0->-r requirements.txt (line 1)) (2.12.0)\n",
      "Requirement already satisfied: pickleshare in c:\\users\\rauna\\appdata\\local\\programs\\python\\python310\\lib\\site-packages (from ipython>=7.23.1->ipykernel==6.15.0->-r requirements.txt (line 1)) (0.7.5)\n",
      "Requirement already satisfied: prompt-toolkit!=3.0.0,!=3.0.1,<3.1.0,>=2.0.0 in c:\\users\\rauna\\appdata\\local\\programs\\python\\python310\\lib\\site-packages (from ipython>=7.23.1->ipykernel==6.15.0->-r requirements.txt (line 1)) (3.0.29)\n",
      "Requirement already satisfied: setuptools>=18.5 in c:\\users\\rauna\\appdata\\local\\programs\\python\\python310\\lib\\site-packages (from ipython>=7.23.1->ipykernel==6.15.0->-r requirements.txt (line 1)) (58.1.0)\n",
      "Requirement already satisfied: stack-data in c:\\users\\rauna\\appdata\\local\\programs\\python\\python310\\lib\\site-packages (from ipython>=7.23.1->ipykernel==6.15.0->-r requirements.txt (line 1)) (0.2.0)\n",
      "Requirement already satisfied: backcall in c:\\users\\rauna\\appdata\\local\\programs\\python\\python310\\lib\\site-packages (from ipython>=7.23.1->ipykernel==6.15.0->-r requirements.txt (line 1)) (0.2.0)\n",
      "Requirement already satisfied: entrypoints in c:\\users\\rauna\\appdata\\local\\programs\\python\\python310\\lib\\site-packages (from jupyter-client>=6.1.12->ipykernel==6.15.0->-r requirements.txt (line 1)) (0.4)\n",
      "Requirement already satisfied: jupyter-core>=4.9.2 in c:\\users\\rauna\\appdata\\local\\programs\\python\\python310\\lib\\site-packages (from jupyter-client>=6.1.12->ipykernel==6.15.0->-r requirements.txt (line 1)) (4.10.0)\n",
      "Requirement already satisfied: six>=1.5 in c:\\users\\rauna\\appdata\\local\\programs\\python\\python310\\lib\\site-packages (from python-dateutil>=2.7->matplotlib==3.5.2->-r requirements.txt (line 2)) (1.16.0)\n",
      "Requirement already satisfied: parso<0.9.0,>=0.8.0 in c:\\users\\rauna\\appdata\\local\\programs\\python\\python310\\lib\\site-packages (from jedi>=0.16->ipython>=7.23.1->ipykernel==6.15.0->-r requirements.txt (line 1)) (0.8.3)\n",
      "Requirement already satisfied: pywin32>=1.0 in c:\\users\\rauna\\appdata\\local\\programs\\python\\python310\\lib\\site-packages (from jupyter-core>=4.9.2->jupyter-client>=6.1.12->ipykernel==6.15.0->-r requirements.txt (line 1)) (304)\n",
      "Requirement already satisfied: wcwidth in c:\\users\\rauna\\appdata\\local\\programs\\python\\python310\\lib\\site-packages (from prompt-toolkit!=3.0.0,!=3.0.1,<3.1.0,>=2.0.0->ipython>=7.23.1->ipykernel==6.15.0->-r requirements.txt (line 1)) (0.2.5)\n",
      "Requirement already satisfied: asttokens in c:\\users\\rauna\\appdata\\local\\programs\\python\\python310\\lib\\site-packages (from stack-data->ipython>=7.23.1->ipykernel==6.15.0->-r requirements.txt (line 1)) (2.0.5)\n",
      "Requirement already satisfied: executing in c:\\users\\rauna\\appdata\\local\\programs\\python\\python310\\lib\\site-packages (from stack-data->ipython>=7.23.1->ipykernel==6.15.0->-r requirements.txt (line 1)) (0.8.3)\n",
      "Requirement already satisfied: pure-eval in c:\\users\\rauna\\appdata\\local\\programs\\python\\python310\\lib\\site-packages (from stack-data->ipython>=7.23.1->ipykernel==6.15.0->-r requirements.txt (line 1)) (0.2.2)\n",
      "Note: you may need to restart the kernel to use updated packages.\n"
     ]
    },
    {
     "name": "stderr",
     "output_type": "stream",
     "text": [
      "\n",
      "[notice] A new release of pip available: 22.2.1 -> 22.2.2\n",
      "[notice] To update, run: python.exe -m pip install --upgrade pip\n"
     ]
    }
   ],
   "source": [
    "pip install -r requirements.txt"
   ]
  },
  {
   "cell_type": "code",
   "execution_count": 3,
   "metadata": {},
   "outputs": [],
   "source": [
    "import pandas as pd\n",
    "import seaborn as sns\n",
    "\n",
    "import matplotlib.pyplot as plt\n",
    "\n",
    "%matplotlib inline"
   ]
  },
  {
   "cell_type": "markdown",
   "metadata": {},
   "source": [
    "# Exploratory Data Analysis."
   ]
  },
  {
   "cell_type": "code",
   "execution_count": 4,
   "metadata": {},
   "outputs": [
    {
     "data": {
      "text/html": [
       "<div>\n",
       "<style scoped>\n",
       "    .dataframe tbody tr th:only-of-type {\n",
       "        vertical-align: middle;\n",
       "    }\n",
       "\n",
       "    .dataframe tbody tr th {\n",
       "        vertical-align: top;\n",
       "    }\n",
       "\n",
       "    .dataframe thead th {\n",
       "        text-align: right;\n",
       "    }\n",
       "</style>\n",
       "<table border=\"1\" class=\"dataframe\">\n",
       "  <thead>\n",
       "    <tr style=\"text-align: right;\">\n",
       "      <th></th>\n",
       "      <th>station</th>\n",
       "      <th>valid</th>\n",
       "      <th>tmpc</th>\n",
       "      <th>dwpc</th>\n",
       "      <th>relh</th>\n",
       "      <th>sknt</th>\n",
       "      <th>gust</th>\n",
       "      <th>peak_wind_drct</th>\n",
       "    </tr>\n",
       "  </thead>\n",
       "  <tbody>\n",
       "    <tr>\n",
       "      <th>0</th>\n",
       "      <td>NZAA</td>\n",
       "      <td>2015-01-01 00:00</td>\n",
       "      <td>21.0</td>\n",
       "      <td>11.0</td>\n",
       "      <td>52.77</td>\n",
       "      <td>15.0</td>\n",
       "      <td>NaN</td>\n",
       "      <td>NaN</td>\n",
       "    </tr>\n",
       "    <tr>\n",
       "      <th>1</th>\n",
       "      <td>NZAA</td>\n",
       "      <td>2015-01-01 00:30</td>\n",
       "      <td>21.0</td>\n",
       "      <td>10.0</td>\n",
       "      <td>49.37</td>\n",
       "      <td>16.0</td>\n",
       "      <td>NaN</td>\n",
       "      <td>NaN</td>\n",
       "    </tr>\n",
       "    <tr>\n",
       "      <th>2</th>\n",
       "      <td>NZAA</td>\n",
       "      <td>2015-01-01 01:00</td>\n",
       "      <td>21.0</td>\n",
       "      <td>12.0</td>\n",
       "      <td>56.38</td>\n",
       "      <td>16.0</td>\n",
       "      <td>NaN</td>\n",
       "      <td>NaN</td>\n",
       "    </tr>\n",
       "    <tr>\n",
       "      <th>3</th>\n",
       "      <td>NZAA</td>\n",
       "      <td>2015-01-01 01:30</td>\n",
       "      <td>21.0</td>\n",
       "      <td>13.0</td>\n",
       "      <td>60.21</td>\n",
       "      <td>16.0</td>\n",
       "      <td>NaN</td>\n",
       "      <td>NaN</td>\n",
       "    </tr>\n",
       "    <tr>\n",
       "      <th>4</th>\n",
       "      <td>NZAA</td>\n",
       "      <td>2015-01-01 02:00</td>\n",
       "      <td>21.0</td>\n",
       "      <td>12.0</td>\n",
       "      <td>56.38</td>\n",
       "      <td>16.0</td>\n",
       "      <td>NaN</td>\n",
       "      <td>NaN</td>\n",
       "    </tr>\n",
       "  </tbody>\n",
       "</table>\n",
       "</div>"
      ],
      "text/plain": [
       "   station             valid  tmpc  dwpc   relh  sknt  gust  peak_wind_drct\n",
       "0     NZAA  2015-01-01 00:00  21.0  11.0  52.77  15.0   NaN             NaN\n",
       "1     NZAA  2015-01-01 00:30  21.0  10.0  49.37  16.0   NaN             NaN\n",
       "2     NZAA  2015-01-01 01:00  21.0  12.0  56.38  16.0   NaN             NaN\n",
       "3     NZAA  2015-01-01 01:30  21.0  13.0  60.21  16.0   NaN             NaN\n",
       "4     NZAA  2015-01-01 02:00  21.0  12.0  56.38  16.0   NaN             NaN"
      ]
     },
     "execution_count": 4,
     "metadata": {},
     "output_type": "execute_result"
    }
   ],
   "source": [
    "# Read and show dataset\n",
    "dataset = pd.read_csv(\"weather-data.csv\")\n",
    "\n",
    "dataset.head()"
   ]
  },
  {
   "cell_type": "code",
   "execution_count": 6,
   "metadata": {
    "scrolled": true
   },
   "outputs": [
    {
     "data": {
      "text/html": [
       "<div>\n",
       "<style scoped>\n",
       "    .dataframe tbody tr th:only-of-type {\n",
       "        vertical-align: middle;\n",
       "    }\n",
       "\n",
       "    .dataframe tbody tr th {\n",
       "        vertical-align: top;\n",
       "    }\n",
       "\n",
       "    .dataframe thead th {\n",
       "        text-align: right;\n",
       "    }\n",
       "</style>\n",
       "<table border=\"1\" class=\"dataframe\">\n",
       "  <thead>\n",
       "    <tr style=\"text-align: right;\">\n",
       "      <th></th>\n",
       "      <th>Temp of Env (°C)</th>\n",
       "      <th>Temp of dew point (°C)</th>\n",
       "      <th>Relative Humidity of Env (%)</th>\n",
       "      <th>Wind Speed (knots)</th>\n",
       "      <th>Wind Gust (knots)</th>\n",
       "      <th>Peak Wind Direction</th>\n",
       "    </tr>\n",
       "  </thead>\n",
       "  <tbody>\n",
       "    <tr>\n",
       "      <th>count</th>\n",
       "      <td>103678.000000</td>\n",
       "      <td>103678.000000</td>\n",
       "      <td>103593.000000</td>\n",
       "      <td>103704.000000</td>\n",
       "      <td>1203.000000</td>\n",
       "      <td>0.0</td>\n",
       "    </tr>\n",
       "    <tr>\n",
       "      <th>mean</th>\n",
       "      <td>15.811503</td>\n",
       "      <td>12.115772</td>\n",
       "      <td>79.782307</td>\n",
       "      <td>8.919029</td>\n",
       "      <td>30.962594</td>\n",
       "      <td>NaN</td>\n",
       "    </tr>\n",
       "    <tr>\n",
       "      <th>std</th>\n",
       "      <td>4.235197</td>\n",
       "      <td>3.738005</td>\n",
       "      <td>12.562199</td>\n",
       "      <td>5.348379</td>\n",
       "      <td>6.319510</td>\n",
       "      <td>NaN</td>\n",
       "    </tr>\n",
       "    <tr>\n",
       "      <th>min</th>\n",
       "      <td>2.000000</td>\n",
       "      <td>-2.000000</td>\n",
       "      <td>29.230000</td>\n",
       "      <td>0.000000</td>\n",
       "      <td>13.000000</td>\n",
       "      <td>NaN</td>\n",
       "    </tr>\n",
       "    <tr>\n",
       "      <th>25%</th>\n",
       "      <td>13.000000</td>\n",
       "      <td>9.000000</td>\n",
       "      <td>71.450000</td>\n",
       "      <td>5.000000</td>\n",
       "      <td>27.000000</td>\n",
       "      <td>NaN</td>\n",
       "    </tr>\n",
       "    <tr>\n",
       "      <th>50%</th>\n",
       "      <td>16.000000</td>\n",
       "      <td>12.000000</td>\n",
       "      <td>81.990000</td>\n",
       "      <td>8.000000</td>\n",
       "      <td>31.000000</td>\n",
       "      <td>NaN</td>\n",
       "    </tr>\n",
       "    <tr>\n",
       "      <th>75%</th>\n",
       "      <td>19.000000</td>\n",
       "      <td>15.000000</td>\n",
       "      <td>88.180000</td>\n",
       "      <td>12.000000</td>\n",
       "      <td>35.000000</td>\n",
       "      <td>NaN</td>\n",
       "    </tr>\n",
       "    <tr>\n",
       "      <th>max</th>\n",
       "      <td>29.000000</td>\n",
       "      <td>23.000000</td>\n",
       "      <td>100.000000</td>\n",
       "      <td>42.000000</td>\n",
       "      <td>56.000000</td>\n",
       "      <td>NaN</td>\n",
       "    </tr>\n",
       "  </tbody>\n",
       "</table>\n",
       "</div>"
      ],
      "text/plain": [
       "       Temp of Env (°C)  Temp of dew point (°C)  Relative Humidity of Env (%)  \\\n",
       "count     103678.000000           103678.000000                 103593.000000   \n",
       "mean          15.811503               12.115772                     79.782307   \n",
       "std            4.235197                3.738005                     12.562199   \n",
       "min            2.000000               -2.000000                     29.230000   \n",
       "25%           13.000000                9.000000                     71.450000   \n",
       "50%           16.000000               12.000000                     81.990000   \n",
       "75%           19.000000               15.000000                     88.180000   \n",
       "max           29.000000               23.000000                    100.000000   \n",
       "\n",
       "       Wind Speed (knots)  Wind Gust (knots)  Peak Wind Direction  \n",
       "count       103704.000000        1203.000000                  0.0  \n",
       "mean             8.919029          30.962594                  NaN  \n",
       "std              5.348379           6.319510                  NaN  \n",
       "min              0.000000          13.000000                  NaN  \n",
       "25%              5.000000          27.000000                  NaN  \n",
       "50%              8.000000          31.000000                  NaN  \n",
       "75%             12.000000          35.000000                  NaN  \n",
       "max             42.000000          56.000000                  NaN  "
      ]
     },
     "execution_count": 6,
     "metadata": {},
     "output_type": "execute_result"
    }
   ],
   "source": [
    "# Rename columns to more readable names \n",
    "dataset.columns.values[0:8] = [\"Station\", \"Date and Time\", \"Temp of Env (°C)\", \"Temp of dew point (°C)\", \n",
    "\"Relative Humidity of Env (%)\", \"Wind Speed (knots)\", \"Wind Gust (knots)\", \"Peak Wind Direction\"]\n",
    "\n",
    "# Print general statistics of the dataset\n",
    "dataset.describe() "
   ]
  },
  {
   "cell_type": "code",
   "execution_count": null,
   "metadata": {},
   "outputs": [],
   "source": [
    "# Check that there are no null-values\n",
    "dataset.info()"
   ]
  },
  {
   "cell_type": "code",
   "execution_count": null,
   "metadata": {
    "scrolled": true
   },
   "outputs": [],
   "source": [
    "dataset.dtypes"
   ]
  },
  {
   "cell_type": "code",
   "execution_count": 1,
   "metadata": {},
   "outputs": [
    {
     "ename": "NameError",
     "evalue": "name 'dataset' is not defined",
     "output_type": "error",
     "traceback": [
      "\u001b[1;31m---------------------------------------------------------------------------\u001b[0m",
      "\u001b[1;31mNameError\u001b[0m                                 Traceback (most recent call last)",
      "Input \u001b[1;32mIn [1]\u001b[0m, in \u001b[0;36m<cell line: 3>\u001b[1;34m()\u001b[0m\n\u001b[0;32m      1\u001b[0m \u001b[38;5;66;03m# we can see that the last column in the dataset ('Peak Wind Direction') has 0 values\u001b[39;00m\n\u001b[0;32m      2\u001b[0m \u001b[38;5;66;03m# therefore we will exclude this column going forward\u001b[39;00m\n\u001b[1;32m----> 3\u001b[0m dataset \u001b[38;5;241m=\u001b[39m \u001b[43mdataset\u001b[49m\u001b[38;5;241m.\u001b[39mdrop([\u001b[38;5;124m'\u001b[39m\u001b[38;5;124mPeak Wind Direction\u001b[39m\u001b[38;5;124m'\u001b[39m], axis\u001b[38;5;241m=\u001b[39m\u001b[38;5;241m1\u001b[39m)\n",
      "\u001b[1;31mNameError\u001b[0m: name 'dataset' is not defined"
     ]
    }
   ],
   "source": [
    "# we can see that the last column in the dataset ('Peak Wind Direction') has 0 values\n",
    "# therefore we will exclude this column going forward\n",
    "dataset = dataset.drop(['Peak Wind Direction'], axis=1)"
   ]
  },
  {
   "cell_type": "code",
   "execution_count": 5,
   "metadata": {},
   "outputs": [
    {
     "data": {
      "text/plain": [
       "<AxesSubplot:>"
      ]
     },
     "execution_count": 5,
     "metadata": {},
     "output_type": "execute_result"
    },
    {
     "data": {
      "image/png": "[encoded data removed]",
      "text/plain": [
       "<Figure size 432x288 with 2 Axes>"
      ]
     },
     "metadata": {
      "needs_background": "light"
     },
     "output_type": "display_data"
    }
   ],
   "source": [
    "# plt.matshow(dataset.corr())\n",
    "# plt.show()\n",
    "\n",
    "# corr = dataset.corr()\n",
    "# corr.style.background_gradient(cmap='coolwarm')\n",
    "\n",
    "# Ccorrelation plot of dataset \n",
    "# Values nearing one or negative one can have a pattern where a(x) = k*b(x)\n",
    "# Values closer to the 0 value indicates the plot of a(x) and b(x) has no noticeable pattern.\n",
    "sns.heatmap(dataset.corr(), cmap='coolwarm', annot=True, square=True)"
   ]
  },
  {
   "cell_type": "code",
   "execution_count": 13,
   "metadata": {},
   "outputs": [
    {
     "name": "stdout",
     "output_type": "stream",
     "text": [
      "<class 'pandas.core.frame.DataFrame'>\n",
      "RangeIndex: 103713 entries, 0 to 103712\n",
      "Data columns (total 8 columns):\n",
      " #   Column          Non-Null Count   Dtype  \n",
      "---  ------          --------------   -----  \n",
      " 0    station        103713 non-null  object \n",
      " 1   valid           103713 non-null  object \n",
      " 2   tmpc            103678 non-null  float64\n",
      " 3   dwpc            103678 non-null  float64\n",
      " 4   relh            103593 non-null  float64\n",
      " 5   sknt            103704 non-null  float64\n",
      " 6   gust            1203 non-null    float64\n",
      " 7   peak_wind_drct  0 non-null       float64\n",
      "dtypes: float64(6), object(2)\n",
      "memory usage: 6.3+ MB\n"
     ]
    }
   ],
   "source": []
  },
  {
   "cell_type": "code",
   "execution_count": null,
   "metadata": {},
   "outputs": [],
   "source": [
    "dataset.info()"
   ]
  },
  {
   "cell_type": "code",
   "execution_count": 9,
   "metadata": {},
   "outputs": [
    {
     "data": {
      "text/plain": [
       "<AxesSubplot:>"
      ]
     },
     "execution_count": 9,
     "metadata": {},
     "output_type": "execute_result"
    },
    {
     "data": {
      "image/png": "[encoded data removed]",
      "text/plain": [
       "<Figure size 432x288 with 2 Axes>"
      ]
     },
     "metadata": {
      "needs_background": "light"
     },
     "output_type": "display_data"
    }
   ],
   "source": [
    "sns.heatmap(dataset.corr(), annot=True, square=True)"
   ]
  },
  {
   "cell_type": "markdown",
   "metadata": {},
   "source": [
    "# Data Processing"
   ]
  },
  {
   "cell_type": "code",
   "execution_count": null,
   "metadata": {},
   "outputs": [],
   "source": [
    "# An exhaustive list of what you can do with Pandas dataframe is in this link: https://pandas.pydata.org/docs/reference/frame.html"
   ]
  },
  {
   "cell_type": "markdown",
   "metadata": {},
   "source": [
    "# Data Modelling"
   ]
  },
  {
   "cell_type": "code",
   "execution_count": null,
   "metadata": {},
   "outputs": [],
   "source": [
    "# An exhaustive list of models can be found in sci-kit learn in this link: https://scikit-learn.org/stable/supervised_learning.html\n",
    "# The url takes you to supervised learning which is what you will be dealing with for this phase."
   ]
  },
  {
   "cell_type": "markdown",
   "metadata": {},
   "source": [
    "# Conclusion\n",
    "\n",
    "* Comment on your model performance.\n",
    "* Anything interesting about the data analysis."
   ]
  }
 ],
 "metadata": {
  "kernelspec": {
   "display_name": "Python 3 (ipykernel)",
   "language": "python",
   "name": "python3"
  },
  "language_info": {
   "codemirror_mode": {
    "name": "ipython",
    "version": 3
   },
   "file_extension": ".py",
   "mimetype": "text/x-python",
   "name": "python",
   "nbconvert_exporter": "python",
   "pygments_lexer": "ipython3",
   "version": "3.10.2"
  },
  "vscode": {
   "interpreter": {
    "hash": "5e05ddea837ee9bab119ec26a25e38b50814a3ed1e17c95102d633caf5040181"
   }
  }
 },
 "nbformat": 4,
 "nbformat_minor": 2
}
